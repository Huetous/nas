{
 "cells": [
  {
   "cell_type": "markdown",
   "metadata": {},
   "source": [
    "--test option (1 epoch)"
   ]
  },
  {
   "cell_type": "code",
   "execution_count": 5,
   "metadata": {},
   "outputs": [],
   "source": [
    "import pycocotools"
   ]
  },
  {
   "cell_type": "markdown",
   "metadata": {},
   "source": [
    "### training"
   ]
  },
  {
   "cell_type": "code",
   "execution_count": 18,
   "metadata": {},
   "outputs": [],
   "source": [
    "!python ../scripts/prepare_train_labels.py --labels ../jups/coco_home/annotations/person_keypoints_train2017.json"
   ]
  },
  {
   "cell_type": "code",
   "execution_count": 20,
   "metadata": {},
   "outputs": [],
   "source": [
    "!python ../scripts/make_val_subset.py --labels ../jups/coco_home/annotations/person_keypoints_val2017.json"
   ]
  },
  {
   "cell_type": "code",
   "execution_count": 1,
   "metadata": {
    "scrolled": false
   },
   "outputs": [
    {
     "name": "stdout",
     "output_type": "stream",
     "text": [
      "[WARNING] Not found pre-trained parameters for model.0.1.num_batches_tracked\n",
      "[WARNING] Not found pre-trained parameters for model.1.1.num_batches_tracked\n",
      "[WARNING] Not found pre-trained parameters for model.1.4.num_batches_tracked\n",
      "[WARNING] Not found pre-trained parameters for model.2.1.num_batches_tracked\n",
      "[WARNING] Not found pre-trained parameters for model.2.4.num_batches_tracked\n",
      "[WARNING] Not found pre-trained parameters for model.3.1.num_batches_tracked\n",
      "[WARNING] Not found pre-trained parameters for model.3.4.num_batches_tracked\n",
      "[WARNING] Not found pre-trained parameters for model.4.1.num_batches_tracked\n",
      "[WARNING] Not found pre-trained parameters for model.4.4.num_batches_tracked\n",
      "[WARNING] Not found pre-trained parameters for model.5.1.num_batches_tracked\n",
      "[WARNING] Not found pre-trained parameters for model.5.4.num_batches_tracked\n",
      "[WARNING] Not found pre-trained parameters for model.6.1.num_batches_tracked\n",
      "[WARNING] Not found pre-trained parameters for model.6.4.num_batches_tracked\n",
      "[WARNING] Not found pre-trained parameters for model.7.1.num_batches_tracked\n",
      "[WARNING] Not found pre-trained parameters for model.7.4.num_batches_tracked\n",
      "[WARNING] Not found pre-trained parameters for model.8.1.num_batches_tracked\n",
      "[WARNING] Not found pre-trained parameters for model.8.4.num_batches_tracked\n",
      "[WARNING] Not found pre-trained parameters for model.9.1.num_batches_tracked\n",
      "[WARNING] Not found pre-trained parameters for model.9.4.num_batches_tracked\n",
      "[WARNING] Not found pre-trained parameters for model.10.1.num_batches_tracked\n",
      "[WARNING] Not found pre-trained parameters for model.10.4.num_batches_tracked\n",
      "[WARNING] Not found pre-trained parameters for model.11.1.num_batches_tracked\n",
      "[WARNING] Not found pre-trained parameters for model.11.4.num_batches_tracked\n",
      "[WARNING] Not found pre-trained parameters for cpm.align.0.weight\n",
      "[WARNING] Not found pre-trained parameters for cpm.align.0.bias\n",
      "[WARNING] Not found pre-trained parameters for cpm.trunk.0.0.weight\n",
      "[WARNING] Not found pre-trained parameters for cpm.trunk.0.2.weight\n",
      "[WARNING] Not found pre-trained parameters for cpm.trunk.1.0.weight\n",
      "[WARNING] Not found pre-trained parameters for cpm.trunk.1.2.weight\n",
      "[WARNING] Not found pre-trained parameters for cpm.trunk.2.0.weight\n",
      "[WARNING] Not found pre-trained parameters for cpm.trunk.2.2.weight\n",
      "[WARNING] Not found pre-trained parameters for cpm.conv.0.weight\n",
      "[WARNING] Not found pre-trained parameters for cpm.conv.0.bias\n",
      "[WARNING] Not found pre-trained parameters for initial_stage.trunk.0.0.weight\n",
      "[WARNING] Not found pre-trained parameters for initial_stage.trunk.0.0.bias\n",
      "[WARNING] Not found pre-trained parameters for initial_stage.trunk.1.0.weight\n",
      "[WARNING] Not found pre-trained parameters for initial_stage.trunk.1.0.bias\n",
      "[WARNING] Not found pre-trained parameters for initial_stage.trunk.2.0.weight\n",
      "[WARNING] Not found pre-trained parameters for initial_stage.trunk.2.0.bias\n",
      "[WARNING] Not found pre-trained parameters for initial_stage.heatmaps.0.0.weight\n",
      "[WARNING] Not found pre-trained parameters for initial_stage.heatmaps.0.0.bias\n",
      "[WARNING] Not found pre-trained parameters for initial_stage.heatmaps.1.0.weight\n",
      "[WARNING] Not found pre-trained parameters for initial_stage.heatmaps.1.0.bias\n",
      "[WARNING] Not found pre-trained parameters for initial_stage.pafs.0.0.weight\n",
      "[WARNING] Not found pre-trained parameters for initial_stage.pafs.0.0.bias\n",
      "[WARNING] Not found pre-trained parameters for initial_stage.pafs.1.0.weight\n",
      "[WARNING] Not found pre-trained parameters for initial_stage.pafs.1.0.bias\n",
      "[WARNING] Not found pre-trained parameters for refinement_stages.0.trunk.0.initial.0.weight\n",
      "[WARNING] Not found pre-trained parameters for refinement_stages.0.trunk.0.initial.0.bias\n",
      "[WARNING] Not found pre-trained parameters for refinement_stages.0.trunk.0.trunk.0.0.weight\n",
      "[WARNING] Not found pre-trained parameters for refinement_stages.0.trunk.0.trunk.0.0.bias\n",
      "[WARNING] Not found pre-trained parameters for refinement_stages.0.trunk.0.trunk.0.1.weight\n",
      "[WARNING] Not found pre-trained parameters for refinement_stages.0.trunk.0.trunk.0.1.bias\n",
      "[WARNING] Not found pre-trained parameters for refinement_stages.0.trunk.0.trunk.0.1.running_mean\n",
      "[WARNING] Not found pre-trained parameters for refinement_stages.0.trunk.0.trunk.0.1.running_var\n",
      "[WARNING] Not found pre-trained parameters for refinement_stages.0.trunk.0.trunk.0.1.num_batches_tracked\n",
      "[WARNING] Not found pre-trained parameters for refinement_stages.0.trunk.0.trunk.1.0.weight\n",
      "[WARNING] Not found pre-trained parameters for refinement_stages.0.trunk.0.trunk.1.0.bias\n",
      "[WARNING] Not found pre-trained parameters for refinement_stages.0.trunk.0.trunk.1.1.weight\n",
      "[WARNING] Not found pre-trained parameters for refinement_stages.0.trunk.0.trunk.1.1.bias\n",
      "[WARNING] Not found pre-trained parameters for refinement_stages.0.trunk.0.trunk.1.1.running_mean\n",
      "[WARNING] Not found pre-trained parameters for refinement_stages.0.trunk.0.trunk.1.1.running_var\n",
      "[WARNING] Not found pre-trained parameters for refinement_stages.0.trunk.0.trunk.1.1.num_batches_tracked\n",
      "[WARNING] Not found pre-trained parameters for refinement_stages.0.trunk.1.initial.0.weight\n",
      "[WARNING] Not found pre-trained parameters for refinement_stages.0.trunk.1.initial.0.bias\n",
      "[WARNING] Not found pre-trained parameters for refinement_stages.0.trunk.1.trunk.0.0.weight\n",
      "[WARNING] Not found pre-trained parameters for refinement_stages.0.trunk.1.trunk.0.0.bias\n",
      "[WARNING] Not found pre-trained parameters for refinement_stages.0.trunk.1.trunk.0.1.weight\n",
      "[WARNING] Not found pre-trained parameters for refinement_stages.0.trunk.1.trunk.0.1.bias\n",
      "[WARNING] Not found pre-trained parameters for refinement_stages.0.trunk.1.trunk.0.1.running_mean\n",
      "[WARNING] Not found pre-trained parameters for refinement_stages.0.trunk.1.trunk.0.1.running_var\n",
      "[WARNING] Not found pre-trained parameters for refinement_stages.0.trunk.1.trunk.0.1.num_batches_tracked\n",
      "[WARNING] Not found pre-trained parameters for refinement_stages.0.trunk.1.trunk.1.0.weight\n",
      "[WARNING] Not found pre-trained parameters for refinement_stages.0.trunk.1.trunk.1.0.bias\n",
      "[WARNING] Not found pre-trained parameters for refinement_stages.0.trunk.1.trunk.1.1.weight\n",
      "[WARNING] Not found pre-trained parameters for refinement_stages.0.trunk.1.trunk.1.1.bias\n",
      "[WARNING] Not found pre-trained parameters for refinement_stages.0.trunk.1.trunk.1.1.running_mean\n",
      "[WARNING] Not found pre-trained parameters for refinement_stages.0.trunk.1.trunk.1.1.running_var\n",
      "[WARNING] Not found pre-trained parameters for refinement_stages.0.trunk.1.trunk.1.1.num_batches_tracked\n",
      "[WARNING] Not found pre-trained parameters for refinement_stages.0.trunk.2.initial.0.weight\n",
      "[WARNING] Not found pre-trained parameters for refinement_stages.0.trunk.2.initial.0.bias\n",
      "[WARNING] Not found pre-trained parameters for refinement_stages.0.trunk.2.trunk.0.0.weight\n",
      "[WARNING] Not found pre-trained parameters for refinement_stages.0.trunk.2.trunk.0.0.bias\n",
      "[WARNING] Not found pre-trained parameters for refinement_stages.0.trunk.2.trunk.0.1.weight\n",
      "[WARNING] Not found pre-trained parameters for refinement_stages.0.trunk.2.trunk.0.1.bias\n",
      "[WARNING] Not found pre-trained parameters for refinement_stages.0.trunk.2.trunk.0.1.running_mean\n",
      "[WARNING] Not found pre-trained parameters for refinement_stages.0.trunk.2.trunk.0.1.running_var\n",
      "[WARNING] Not found pre-trained parameters for refinement_stages.0.trunk.2.trunk.0.1.num_batches_tracked\n",
      "[WARNING] Not found pre-trained parameters for refinement_stages.0.trunk.2.trunk.1.0.weight\n",
      "[WARNING] Not found pre-trained parameters for refinement_stages.0.trunk.2.trunk.1.0.bias\n",
      "[WARNING] Not found pre-trained parameters for refinement_stages.0.trunk.2.trunk.1.1.weight\n",
      "[WARNING] Not found pre-trained parameters for refinement_stages.0.trunk.2.trunk.1.1.bias\n",
      "[WARNING] Not found pre-trained parameters for refinement_stages.0.trunk.2.trunk.1.1.running_mean\n",
      "[WARNING] Not found pre-trained parameters for refinement_stages.0.trunk.2.trunk.1.1.running_var\n",
      "[WARNING] Not found pre-trained parameters for refinement_stages.0.trunk.2.trunk.1.1.num_batches_tracked\n",
      "[WARNING] Not found pre-trained parameters for refinement_stages.0.trunk.3.initial.0.weight\n",
      "[WARNING] Not found pre-trained parameters for refinement_stages.0.trunk.3.initial.0.bias\n",
      "[WARNING] Not found pre-trained parameters for refinement_stages.0.trunk.3.trunk.0.0.weight\n",
      "[WARNING] Not found pre-trained parameters for refinement_stages.0.trunk.3.trunk.0.0.bias\n",
      "[WARNING] Not found pre-trained parameters for refinement_stages.0.trunk.3.trunk.0.1.weight\n",
      "[WARNING] Not found pre-trained parameters for refinement_stages.0.trunk.3.trunk.0.1.bias\n",
      "[WARNING] Not found pre-trained parameters for refinement_stages.0.trunk.3.trunk.0.1.running_mean\n",
      "[WARNING] Not found pre-trained parameters for refinement_stages.0.trunk.3.trunk.0.1.running_var\n",
      "[WARNING] Not found pre-trained parameters for refinement_stages.0.trunk.3.trunk.0.1.num_batches_tracked\n",
      "[WARNING] Not found pre-trained parameters for refinement_stages.0.trunk.3.trunk.1.0.weight\n",
      "[WARNING] Not found pre-trained parameters for refinement_stages.0.trunk.3.trunk.1.0.bias\n",
      "[WARNING] Not found pre-trained parameters for refinement_stages.0.trunk.3.trunk.1.1.weight\n",
      "[WARNING] Not found pre-trained parameters for refinement_stages.0.trunk.3.trunk.1.1.bias\n",
      "[WARNING] Not found pre-trained parameters for refinement_stages.0.trunk.3.trunk.1.1.running_mean\n",
      "[WARNING] Not found pre-trained parameters for refinement_stages.0.trunk.3.trunk.1.1.running_var\n",
      "[WARNING] Not found pre-trained parameters for refinement_stages.0.trunk.3.trunk.1.1.num_batches_tracked\n",
      "[WARNING] Not found pre-trained parameters for refinement_stages.0.trunk.4.initial.0.weight\n",
      "[WARNING] Not found pre-trained parameters for refinement_stages.0.trunk.4.initial.0.bias\n",
      "[WARNING] Not found pre-trained parameters for refinement_stages.0.trunk.4.trunk.0.0.weight\n",
      "[WARNING] Not found pre-trained parameters for refinement_stages.0.trunk.4.trunk.0.0.bias\n",
      "[WARNING] Not found pre-trained parameters for refinement_stages.0.trunk.4.trunk.0.1.weight\n",
      "[WARNING] Not found pre-trained parameters for refinement_stages.0.trunk.4.trunk.0.1.bias\n",
      "[WARNING] Not found pre-trained parameters for refinement_stages.0.trunk.4.trunk.0.1.running_mean\n",
      "[WARNING] Not found pre-trained parameters for refinement_stages.0.trunk.4.trunk.0.1.running_var\n",
      "[WARNING] Not found pre-trained parameters for refinement_stages.0.trunk.4.trunk.0.1.num_batches_tracked\n",
      "[WARNING] Not found pre-trained parameters for refinement_stages.0.trunk.4.trunk.1.0.weight\n",
      "[WARNING] Not found pre-trained parameters for refinement_stages.0.trunk.4.trunk.1.0.bias\n",
      "[WARNING] Not found pre-trained parameters for refinement_stages.0.trunk.4.trunk.1.1.weight\n",
      "[WARNING] Not found pre-trained parameters for refinement_stages.0.trunk.4.trunk.1.1.bias\n",
      "[WARNING] Not found pre-trained parameters for refinement_stages.0.trunk.4.trunk.1.1.running_mean\n",
      "[WARNING] Not found pre-trained parameters for refinement_stages.0.trunk.4.trunk.1.1.running_var\n",
      "[WARNING] Not found pre-trained parameters for refinement_stages.0.trunk.4.trunk.1.1.num_batches_tracked\n",
      "[WARNING] Not found pre-trained parameters for refinement_stages.0.heatmaps.0.0.weight\n",
      "[WARNING] Not found pre-trained parameters for refinement_stages.0.heatmaps.0.0.bias\n",
      "[WARNING] Not found pre-trained parameters for refinement_stages.0.heatmaps.1.0.weight\n",
      "[WARNING] Not found pre-trained parameters for refinement_stages.0.heatmaps.1.0.bias\n",
      "[WARNING] Not found pre-trained parameters for refinement_stages.0.pafs.0.0.weight\n",
      "[WARNING] Not found pre-trained parameters for refinement_stages.0.pafs.0.0.bias\n",
      "[WARNING] Not found pre-trained parameters for refinement_stages.0.pafs.1.0.weight\n",
      "[WARNING] Not found pre-trained parameters for refinement_stages.0.pafs.1.0.bias\n"
     ]
    },
    {
     "name": "stderr",
     "output_type": "stream",
     "text": [
      "Traceback (most recent call last):\n",
      "  File \"<string>\", line 1, in <module>\n",
      "  File \"C:\\Users\\daddu\\AppData\\Local\\Programs\\Python\\Python36\\lib\\multiprocessing\\spawn.py\", line 105, in spawn_main\n",
      "    exitcode = _main(fd)\n",
      "  File \"C:\\Users\\daddu\\AppData\\Local\\Programs\\Python\\Python36\\lib\\multiprocessing\\spawn.py\", line 115, in _main\n",
      "    self = reduction.pickle.load(from_parent)\n",
      "MemoryError\n",
      "Traceback (most recent call last):\n",
      "  File \"../train.py\", line 190, in <module>\n",
      "    test = args.test\n",
      "  File \"../train.py\", line 90, in train\n",
      "    for batch_data in train_loader:\n",
      "  File \"C:\\Users\\daddu\\AppData\\Local\\Programs\\Python\\Python36\\lib\\site-packages\\torch\\utils\\data\\dataloader.py\", line 355, in __iter__\n",
      "    return self._get_iterator()\n",
      "  File \"C:\\Users\\daddu\\AppData\\Local\\Programs\\Python\\Python36\\lib\\site-packages\\torch\\utils\\data\\dataloader.py\", line 301, in _get_iterator\n",
      "    return _MultiProcessingDataLoaderIter(self)\n",
      "  File \"C:\\Users\\daddu\\AppData\\Local\\Programs\\Python\\Python36\\lib\\site-packages\\torch\\utils\\data\\dataloader.py\", line 914, in __init__\n",
      "    w.start()\n",
      "  File \"C:\\Users\\daddu\\AppData\\Local\\Programs\\Python\\Python36\\lib\\multiprocessing\\process.py\", line 105, in start\n",
      "    self._popen = self._Popen(self)\n",
      "  File \"C:\\Users\\daddu\\AppData\\Local\\Programs\\Python\\Python36\\lib\\multiprocessing\\context.py\", line 223, in _Popen\n",
      "    return _default_context.get_context().Process._Popen(process_obj)\n",
      "  File \"C:\\Users\\daddu\\AppData\\Local\\Programs\\Python\\Python36\\lib\\multiprocessing\\context.py\", line 322, in _Popen\n",
      "    return Popen(process_obj)\n",
      "  File \"C:\\Users\\daddu\\AppData\\Local\\Programs\\Python\\Python36\\lib\\multiprocessing\\popen_spawn_win32.py\", line 65, in __init__\n",
      "    reduction.dump(process_obj, to_child)\n",
      "  File \"C:\\Users\\daddu\\AppData\\Local\\Programs\\Python\\Python36\\lib\\multiprocessing\\reduction.py\", line 60, in dump\n",
      "    ForkingPickler(file, protocol).dump(obj)\n",
      "BrokenPipeError: [Errno 32] Broken pipe\n"
     ]
    }
   ],
   "source": [
    "!python ../train.py --test=True --train-images-folder ../jups/coco_home/train2017/ --prepared-train-labels prepared_train_annotation.pkl --val-labels val_subset.json --val-images-folder coco_home/val2017/ --checkpoint-path pretrain_weights/mobilenet_sgd_68.848.pth.tar --from-mobilenet"
   ]
  },
  {
   "cell_type": "code",
   "execution_count": 4,
   "metadata": {},
   "outputs": [],
   "source": [
    "# !python train.py --test=True --train-images-folder coco_home/train2017/ --prepared-train-labels prepared_train_annotation.pkl --val-labels val_subset.json --val-images-folder coco_home/val2017/ --checkpoint-path pretrain_weights/checkpoint_iter_420000.pth --weights-only"
   ]
  },
  {
   "cell_type": "code",
   "execution_count": 5,
   "metadata": {},
   "outputs": [],
   "source": [
    "# !python train.py --test=True --train-images-folder coco_home/train2017/ --prepared-train-labels prepared_train_annotation.pkl --val-labels val_subset.json --val-images-folder coco_home/val2017/ --checkpoint-path coco_home/checkpoint_iter_280000.pth --weights-only --num-refinement-stages 3"
   ]
  },
  {
   "cell_type": "markdown",
   "metadata": {},
   "source": [
    "### validation"
   ]
  },
  {
   "cell_type": "code",
   "execution_count": null,
   "metadata": {},
   "outputs": [],
   "source": [
    "# !python val.py --test=True --labels coco_home/annotations/person_keypoints_val2017.json --images-folder coco_home/val2017 --checkpoint-path pretrain_weights/..."
   ]
  }
 ],
 "metadata": {
  "kernelspec": {
   "display_name": "Python 3",
   "language": "python",
   "name": "python3"
  },
  "language_info": {
   "codemirror_mode": {
    "name": "ipython",
    "version": 3
   },
   "file_extension": ".py",
   "mimetype": "text/x-python",
   "name": "python",
   "nbconvert_exporter": "python",
   "pygments_lexer": "ipython3",
   "version": "3.6.2"
  }
 },
 "nbformat": 4,
 "nbformat_minor": 2
}
