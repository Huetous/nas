{
 "cells": [
  {
   "cell_type": "code",
   "execution_count": 1,
   "metadata": {},
   "outputs": [],
   "source": [
    "import os\n",
    "import torch\n",
    "import torch.nn as nn\n",
    "\n",
    "from profiler import Profiler\n",
    "from nas.models.with_mobilenet import PoseEstimationWithMobileNet\n",
    "from mobilenetv2 import MobileNetV2\n",
    "\n",
    "os.environ['CUDA_LAUNCH_BLOCKING'] = \"1\""
   ]
  },
  {
   "cell_type": "code",
   "execution_count": 2,
   "metadata": {},
   "outputs": [
    {
     "data": {
      "text/plain": [
       "<torch._C.Generator at 0x19836b1c198>"
      ]
     },
     "execution_count": 2,
     "metadata": {},
     "output_type": "execute_result"
    }
   ],
   "source": [
    "torch.manual_seed(0)"
   ]
  },
  {
   "cell_type": "code",
   "execution_count": 3,
   "metadata": {},
   "outputs": [],
   "source": [
    "mnv1 = PoseEstimationWithMobileNet().cuda()"
   ]
  },
  {
   "cell_type": "code",
   "execution_count": 4,
   "metadata": {},
   "outputs": [
    {
     "data": {
      "text/plain": [
       "4091698"
      ]
     },
     "execution_count": 4,
     "metadata": {},
     "output_type": "execute_result"
    }
   ],
   "source": [
    "sum([p.numel() for p in mnv1.parameters()])"
   ]
  },
  {
   "cell_type": "code",
   "execution_count": 5,
   "metadata": {},
   "outputs": [
    {
     "name": "stdout",
     "output_type": "stream",
     "text": [
      "backbone\n",
      "0               mean: 5.90    ms, \tstd: 53.38   ms, \tpercent: 30.05  %\n",
      "1               mean: 1.46    ms, \tstd: 1.78    ms, \tpercent: 7.42   %\n",
      "2               mean: 1.00    ms, \tstd: 0.19    ms, \tpercent: 5.10   %\n",
      "3               mean: 1.12    ms, \tstd: 0.32    ms, \tpercent: 5.72   %\n",
      "4               mean: 0.89    ms, \tstd: 0.28    ms, \tpercent: 4.55   %\n",
      "5               mean: 0.95    ms, \tstd: 0.20    ms, \tpercent: 4.86   %\n",
      "6               mean: 1.12    ms, \tstd: 0.21    ms, \tpercent: 5.71   %\n",
      "7               mean: 1.42    ms, \tstd: 0.21    ms, \tpercent: 7.24   %\n",
      "8               mean: 1.45    ms, \tstd: 0.32    ms, \tpercent: 7.40   %\n",
      "9               mean: 1.43    ms, \tstd: 0.22    ms, \tpercent: 7.27   %\n",
      "10              mean: 1.45    ms, \tstd: 0.32    ms, \tpercent: 7.38   %\n",
      "11              mean: 1.43    ms, \tstd: 0.21    ms, \tpercent: 7.29   %\n",
      "Total time: 19.65 ms\n"
     ]
    }
   ],
   "source": [
    "profiler = Profiler(mnv1.model, \"backbone\")\n",
    "a = torch.randn((4, 3, 128, 128)).cuda()\n",
    "for _ in range(100):\n",
    "    profiler.forward(a)\n",
    "profiler.collect_data()\n",
    "profiler.show_table()\n",
    "total_backbone = profiler.total_time"
   ]
  },
  {
   "cell_type": "code",
   "execution_count": 6,
   "metadata": {
    "scrolled": true
   },
   "outputs": [
    {
     "name": "stdout",
     "output_type": "stream",
     "text": [
      "cpm\n",
      "align           mean: 0.38    ms, \tstd: 0.07    ms, \tpercent: 9.68   %\n",
      "trunk           mean: 2.62    ms, \tstd: 7.36    ms, \tpercent: 66.16  %\n",
      "conv            mean: 0.96    ms, \tstd: 4.67    ms, \tpercent: 24.16  %\n",
      "Total time: 3.95 ms\n"
     ]
    }
   ],
   "source": [
    "profiler = Profiler(mnv1.cpm, \"cpm\")\n",
    "a = torch.randn((4, 512, 16, 16)).cuda()\n",
    "for _ in range(100):\n",
    "    profiler.forward(a)\n",
    "profiler.collect_data()\n",
    "profiler.show_table()\n",
    "total_cpm = profiler.total_time"
   ]
  },
  {
   "cell_type": "code",
   "execution_count": 7,
   "metadata": {},
   "outputs": [
    {
     "name": "stdout",
     "output_type": "stream",
     "text": [
      "initial_stage\n",
      "trunk           mean: 1.52    ms, \tstd: 0.29    ms, \tpercent: 50.03  %\n",
      "heatmaps        mean: 0.75    ms, \tstd: 0.15    ms, \tpercent: 24.64  %\n",
      "pafs            mean: 0.77    ms, \tstd: 0.17    ms, \tpercent: 25.33  %\n",
      "Total time: 3.03 ms\n"
     ]
    }
   ],
   "source": [
    "profiler = Profiler(mnv1.initial_stage, \"initial_stage\")\n",
    "a = torch.randn((4, 128, 16, 16)).cuda()\n",
    "for _ in range(100):\n",
    "    profiler.forward(a)\n",
    "profiler.collect_data()\n",
    "profiler.show_table()\n",
    "total_init_stage = profiler.total_time"
   ]
  },
  {
   "cell_type": "code",
   "execution_count": 8,
   "metadata": {
    "scrolled": true
   },
   "outputs": [
    {
     "name": "stdout",
     "output_type": "stream",
     "text": [
      "refinement stage\n",
      "trunk           mean: 11.24   ms, \tstd: 9.11    ms, \tpercent: 85.46  %\n",
      "heatmaps        mean: 0.95    ms, \tstd: 0.11    ms, \tpercent: 7.23   %\n",
      "pafs            mean: 0.96    ms, \tstd: 0.21    ms, \tpercent: 7.31   %\n",
      "Total time: 13.16 ms\n"
     ]
    }
   ],
   "source": [
    "profiler = Profiler(mnv1.refinement_stages._modules[\"0\"], \"refinement stage\")\n",
    "a = torch.randn((4, 185, 16, 16)).cuda()\n",
    "for _ in range(100):\n",
    "    profiler.forward(a)\n",
    "profiler.collect_data()\n",
    "profiler.show_table()\n",
    "total_refine_stage = profiler.total_time"
   ]
  },
  {
   "cell_type": "code",
   "execution_count": 9,
   "metadata": {},
   "outputs": [
    {
     "name": "stdout",
     "output_type": "stream",
     "text": [
      "Total net time: 39.7895 ms\n",
      "backbone             total: 19.6475  ms, relative: 0.4938, percent: 49.3786%\n",
      "cpm                  total: 3.9528   ms, relative: 0.0993, percent: 9.9342%\n",
      "initial stage        total: 3.0342   ms, relative: 0.0763, percent: 7.6257%\n",
      "refinement stage     total: 13.1550  ms, relative: 0.3306, percent: 33.0615%\n"
     ]
    }
   ],
   "source": [
    "def info(name, block_time, total_time):\n",
    "    ratio = block_time / total_time\n",
    "    return f\"{name:<20} total: {block_time * 1000:<8.4f} ms, relative: {ratio:.4f}, percent: {ratio * 100:.4f}%\"\n",
    "\n",
    "total = total_backbone + total_cpm + total_init_stage + total_refine_stage\n",
    "print(f\"Total net time: {total * 1000:.4f} ms\")\n",
    "print(info(\"backbone\", total_backbone, total))\n",
    "print(info(\"cpm\", total_cpm, total))\n",
    "print(info(\"initial stage\", total_init_stage, total))\n",
    "print(info(\"refinement stage\", total_refine_stage, total))"
   ]
  },
  {
   "cell_type": "code",
   "execution_count": 2,
   "metadata": {
    "scrolled": true
   },
   "outputs": [],
   "source": []
  },
  {
   "cell_type": "code",
   "execution_count": 3,
   "metadata": {},
   "outputs": [],
   "source": [
    "# конфигурация сети\n",
    "inverted_residual_setting = [\n",
    "   # t, c,   n, s, p, d\n",
    "    [1, 64,  1, 1, 1, 1],\n",
    "    [1, 128, 1, 2, 1, 1],\n",
    "    [1, 128, 1, 1, 1, 1],\n",
    "    [1, 256, 1, 2, 1, 1],\n",
    "    [1, 256, 1, 1, 1, 1],\n",
    "    [1, 512, 1, 1, 1, 1],\n",
    "    [1, 512, 1, 1, 2, 2],\n",
    "    [1, 512, 4, 1, 1, 1],\n",
    "]\n",
    "mnv2 = MobileNetV2(in_channels = 32, last_channels = 512, inverted_residual_setting = inverted_residual_setting).cuda()"
   ]
  },
  {
   "cell_type": "code",
   "execution_count": 11,
   "metadata": {
    "scrolled": true
   },
   "outputs": [
    {
     "data": {
      "text/plain": [
       "True"
      ]
     },
     "execution_count": 11,
     "metadata": {},
     "output_type": "execute_result"
    }
   ],
   "source": [
    "b = torch.randn((1, 3, 128, 128)).cuda()\n",
    "mnv1.model(b).shape == mnv2(b).shape"
   ]
  },
  {
   "cell_type": "code",
   "execution_count": 4,
   "metadata": {},
   "outputs": [
    {
     "data": {
      "text/plain": [
       "1613120"
      ]
     },
     "execution_count": 4,
     "metadata": {},
     "output_type": "execute_result"
    }
   ],
   "source": [
    "sum([p.numel() for p in mnv2.parameters()])"
   ]
  },
  {
   "cell_type": "code",
   "execution_count": 5,
   "metadata": {
    "scrolled": false
   },
   "outputs": [
    {
     "name": "stdout",
     "output_type": "stream",
     "text": [
      "mnv2 backbone\n",
      "0               mean: 5.92    ms, \tstd: 53.73   ms, \tpercent: 18.90  %\n",
      "1               mean: 2.46    ms, \tstd: 2.15    ms, \tpercent: 7.85   %\n",
      "2               mean: 1.78    ms, \tstd: 0.34    ms, \tpercent: 5.69   %\n",
      "3               mean: 2.13    ms, \tstd: 0.40    ms, \tpercent: 6.81   %\n",
      "4               mean: 1.56    ms, \tstd: 0.27    ms, \tpercent: 4.97   %\n",
      "5               mean: 1.86    ms, \tstd: 0.39    ms, \tpercent: 5.92   %\n",
      "6               mean: 2.00    ms, \tstd: 0.33    ms, \tpercent: 6.37   %\n",
      "7               mean: 2.75    ms, \tstd: 0.48    ms, \tpercent: 8.79   %\n",
      "8               mean: 2.71    ms, \tstd: 0.34    ms, \tpercent: 8.65   %\n",
      "9               mean: 2.72    ms, \tstd: 0.40    ms, \tpercent: 8.68   %\n",
      "10              mean: 2.72    ms, \tstd: 0.33    ms, \tpercent: 8.67   %\n",
      "11              mean: 2.73    ms, \tstd: 0.40    ms, \tpercent: 8.70   %\n",
      "Total time: 31.34 ms\n"
     ]
    }
   ],
   "source": [
    "profiler = Profiler(mnv2.model, \"mnv2 backbone\")\n",
    "a = torch.randn((4, 3, 128, 128)).cuda()\n",
    "for _ in range(100):\n",
    "    profiler.forward(a)\n",
    "profiler.collect_data()\n",
    "profiler.show_table()\n",
    "total_mnv2_backbone = profiler.total_time"
   ]
  },
  {
   "cell_type": "code",
   "execution_count": null,
   "metadata": {},
   "outputs": [],
   "source": []
  }
 ],
 "metadata": {
  "kernelspec": {
   "display_name": "Python 3",
   "language": "python",
   "name": "python3"
  },
  "language_info": {
   "codemirror_mode": {
    "name": "ipython",
    "version": 3
   },
   "file_extension": ".py",
   "mimetype": "text/x-python",
   "name": "python",
   "nbconvert_exporter": "python",
   "pygments_lexer": "ipython3",
   "version": "3.6.2"
  }
 },
 "nbformat": 4,
 "nbformat_minor": 2
}
