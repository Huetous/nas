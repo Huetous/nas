{
 "cells": [
  {
   "cell_type": "code",
   "execution_count": 1,
   "metadata": {},
   "outputs": [],
   "source": [
    "import os\n",
    "os.environ['CUDA_LAUNCH_BLOCKING'] = \"1\""
   ]
  },
  {
   "cell_type": "code",
   "execution_count": 2,
   "metadata": {},
   "outputs": [],
   "source": [
    "import torch\n",
    "import torch.nn as nn"
   ]
  },
  {
   "cell_type": "code",
   "execution_count": 3,
   "metadata": {},
   "outputs": [],
   "source": [
    "from profiler import Profiler\n",
    "from nas.models.with_mobilenet import PoseEstimationWithMobileNet"
   ]
  },
  {
   "cell_type": "code",
   "execution_count": 5,
   "metadata": {},
   "outputs": [],
   "source": [
    "net = PoseEstimationWithMobileNet().cuda()"
   ]
  },
  {
   "cell_type": "code",
   "execution_count": 7,
   "metadata": {},
   "outputs": [
    {
     "name": "stdout",
     "output_type": "stream",
     "text": [
      "backbone\n",
      "0               mean: 8.14    ms, \tstd: 60.27   ms, \tpercent: 13.33  %\n",
      "1               mean: 6.45    ms, \tstd: 1.21    ms, \tpercent: 10.57  %\n",
      "2               mean: 3.92    ms, \tstd: 0.85    ms, \tpercent: 6.42   %\n",
      "3               mean: 5.15    ms, \tstd: 0.98    ms, \tpercent: 8.43   %\n",
      "4               mean: 2.24    ms, \tstd: 0.40    ms, \tpercent: 3.66   %\n",
      "5               mean: 2.82    ms, \tstd: 0.65    ms, \tpercent: 4.62   %\n",
      "6               mean: 3.74    ms, \tstd: 0.80    ms, \tpercent: 6.13   %\n",
      "7               mean: 5.71    ms, \tstd: 1.13    ms, \tpercent: 9.36   %\n",
      "8               mean: 5.71    ms, \tstd: 0.98    ms, \tpercent: 9.35   %\n",
      "9               mean: 5.71    ms, \tstd: 0.96    ms, \tpercent: 9.35   %\n",
      "10              mean: 5.71    ms, \tstd: 0.97    ms, \tpercent: 9.35   %\n",
      "11              mean: 5.76    ms, \tstd: 0.96    ms, \tpercent: 9.44   %\n",
      "Total time: 61.05 ms\n"
     ]
    }
   ],
   "source": [
    "profiler = Profiler(net.model, \"backbone\")\n",
    "for _ in range(100):\n",
    "    a = torch.randn((8, 3, 256, 256)).cuda()\n",
    "    profiler.forward(a)\n",
    "profiler.collect_data()\n",
    "profiler.show_table()\n",
    "total_backbone = profiler.total_time"
   ]
  },
  {
   "cell_type": "code",
   "execution_count": 8,
   "metadata": {
    "scrolled": true
   },
   "outputs": [
    {
     "name": "stdout",
     "output_type": "stream",
     "text": [
      "cpm\n",
      "align           mean: 1.22    ms, \tstd: 0.12    ms, \tpercent: 5.24   %\n",
      "trunk           mean: 3.23    ms, \tstd: 0.34    ms, \tpercent: 13.87  %\n",
      "conv            mean: 18.83   ms, \tstd: 5.65    ms, \tpercent: 80.89  %\n",
      "Total time: 23.28 ms\n"
     ]
    }
   ],
   "source": [
    "profiler = Profiler(net.cpm, \"cpm\")\n",
    "for _ in range(100):\n",
    "    a = torch.randn((8, 512, 32, 32)).cuda()\n",
    "    profiler.forward(a)\n",
    "profiler.collect_data()\n",
    "profiler.show_table()\n",
    "total_cpm = profiler.total_time"
   ]
  },
  {
   "cell_type": "code",
   "execution_count": 9,
   "metadata": {},
   "outputs": [
    {
     "name": "stdout",
     "output_type": "stream",
     "text": [
      "initial_stage\n",
      "trunk           mean: 54.87   ms, \tstd: 0.82    ms, \tpercent: 91.82  %\n",
      "heatmaps        mean: 2.36    ms, \tstd: 0.19    ms, \tpercent: 3.95   %\n",
      "pafs            mean: 2.53    ms, \tstd: 0.22    ms, \tpercent: 4.23   %\n",
      "Total time: 59.76 ms\n"
     ]
    }
   ],
   "source": [
    "profiler = Profiler(net.initial_stage, \"initial_stage\")\n",
    "for _ in range(100):\n",
    "    a = torch.randn((8, 128, 32, 32)).cuda()\n",
    "    profiler.forward(a)\n",
    "profiler.collect_data()\n",
    "profiler.show_table()\n",
    "total_init_stage = profiler.total_time"
   ]
  },
  {
   "cell_type": "code",
   "execution_count": 10,
   "metadata": {
    "scrolled": true
   },
   "outputs": [
    {
     "name": "stdout",
     "output_type": "stream",
     "text": [
      "refinement stage\n",
      "trunk           mean: 56.58   ms, \tstd: 40.42   ms, \tpercent: 96.38  %\n",
      "heatmaps        mean: 1.07    ms, \tstd: 0.13    ms, \tpercent: 1.82   %\n",
      "pafs            mean: 1.06    ms, \tstd: 0.18    ms, \tpercent: 1.80   %\n",
      "Total time: 58.71 ms\n"
     ]
    }
   ],
   "source": [
    "profiler = Profiler(net.refinement_stages._modules[\"0\"], \"refinement stage\")\n",
    "for _ in range(100):\n",
    "    a = torch.randn((8, 185, 32, 32)).cuda()\n",
    "    profiler.forward(a)\n",
    "profiler.collect_data()\n",
    "profiler.show_table()\n",
    "total_refine_stage = profiler.total_time"
   ]
  },
  {
   "cell_type": "code",
   "execution_count": 11,
   "metadata": {},
   "outputs": [
    {
     "name": "stdout",
     "output_type": "stream",
     "text": [
      "Total net time: 202.7953 ms\n",
      "backbone             total: 61.0480  ms, relative: 0.3010, percent: 30.1033%\n",
      "cpm                  total: 23.2843  ms, relative: 0.1148, percent: 11.4817%\n",
      "initial stage        total: 59.7566  ms, relative: 0.2947, percent: 29.4665%\n",
      "refinement stage     total: 58.7064  ms, relative: 0.2895, percent: 28.9486%\n"
     ]
    }
   ],
   "source": [
    "def info(name, block_time, total_time):\n",
    "    ratio = block_time / total_time\n",
    "    return f\"{name:<20} total: {block_time * 1000:<8.4f} ms, relative: {ratio:.4f}, percent: {ratio * 100:.4f}%\"\n",
    "\n",
    "total = total_backbone + total_cpm + total_init_stage + total_refine_stage\n",
    "print(f\"Total net time: {total * 1000:.4f} ms\")\n",
    "print(info(\"backbone\", total_backbone, total))\n",
    "print(info(\"cpm\", total_cpm, total))\n",
    "print(info(\"initial stage\", total_init_stage, total))\n",
    "print(info(\"refinement stage\", total_refine_stage, total))"
   ]
  },
  {
   "cell_type": "code",
   "execution_count": null,
   "metadata": {},
   "outputs": [],
   "source": []
  },
  {
   "cell_type": "code",
   "execution_count": 12,
   "metadata": {
    "scrolled": true
   },
   "outputs": [],
   "source": [
    "from mobilenetv2 import MobileNetV2"
   ]
  },
  {
   "cell_type": "code",
   "execution_count": 13,
   "metadata": {},
   "outputs": [],
   "source": [
    "# конфигурация сети\n",
    "inverted_residual_setting = [\n",
    "   # t, c,   n, s\n",
    "    [1, 64,  1, 1],\n",
    "    [1, 128, 1, 2],\n",
    "    [1, 128, 1, 1],\n",
    "    [1, 256, 1, 2],\n",
    "    [1, 256, 1, 1],\n",
    "    [1, 512, 6, 1],\n",
    "]\n",
    "mnv2 = MobileNetV2(in_channels = 32, last_channels = 512, inverted_residual_setting = inverted_residual_setting).cuda()"
   ]
  },
  {
   "cell_type": "code",
   "execution_count": 14,
   "metadata": {},
   "outputs": [],
   "source": [
    "mnv1 = PoseEstimationWithMobileNet().model"
   ]
  },
  {
   "cell_type": "code",
   "execution_count": 15,
   "metadata": {},
   "outputs": [
    {
     "data": {
      "text/plain": [
       "True"
      ]
     },
     "execution_count": 15,
     "metadata": {},
     "output_type": "execute_result"
    }
   ],
   "source": [
    "sum(p.numel() for p in mnv2.parameters()) == sum(p.numel() for p in mnv1.parameters())"
   ]
  },
  {
   "cell_type": "code",
   "execution_count": 16,
   "metadata": {
    "scrolled": false
   },
   "outputs": [
    {
     "name": "stdout",
     "output_type": "stream",
     "text": [
      "mnv2 backbone\n",
      "0               mean: 1.99    ms, \tstd: 0.17    ms, \tpercent: 2.02   %\n",
      "1               mean: 10.71   ms, \tstd: 0.57    ms, \tpercent: 10.84  %\n",
      "2               mean: 6.50    ms, \tstd: 0.35    ms, \tpercent: 6.58   %\n",
      "3               mean: 9.55    ms, \tstd: 0.50    ms, \tpercent: 9.68   %\n",
      "4               mean: 3.83    ms, \tstd: 0.44    ms, \tpercent: 3.88   %\n",
      "5               mean: 5.17    ms, \tstd: 0.57    ms, \tpercent: 5.24   %\n",
      "6               mean: 6.44    ms, \tstd: 0.76    ms, \tpercent: 6.53   %\n",
      "7               mean: 10.83   ms, \tstd: 0.52    ms, \tpercent: 10.97  %\n",
      "8               mean: 10.91   ms, \tstd: 0.51    ms, \tpercent: 11.05  %\n",
      "9               mean: 10.87   ms, \tstd: 0.64    ms, \tpercent: 11.01  %\n",
      "10              mean: 10.99   ms, \tstd: 1.07    ms, \tpercent: 11.13  %\n",
      "11              mean: 10.94   ms, \tstd: 1.08    ms, \tpercent: 11.08  %\n",
      "Total time: 98.73 ms\n"
     ]
    }
   ],
   "source": [
    "profiler = Profiler(mnv2.model, \"mnv2 backbone\")\n",
    "for _ in range(100):\n",
    "    a = torch.randn((8, 3, 256, 256)).cuda()\n",
    "    profiler.forward(a)\n",
    "profiler.collect_data()\n",
    "profiler.show_table()\n",
    "total_mnv2_backbone = profiler.total_time"
   ]
  },
  {
   "cell_type": "code",
   "execution_count": null,
   "metadata": {},
   "outputs": [],
   "source": []
  }
 ],
 "metadata": {
  "kernelspec": {
   "display_name": "Python 3",
   "language": "python",
   "name": "python3"
  },
  "language_info": {
   "codemirror_mode": {
    "name": "ipython",
    "version": 3
   },
   "file_extension": ".py",
   "mimetype": "text/x-python",
   "name": "python",
   "nbconvert_exporter": "python",
   "pygments_lexer": "ipython3",
   "version": "3.6.2"
  }
 },
 "nbformat": 4,
 "nbformat_minor": 2
}
